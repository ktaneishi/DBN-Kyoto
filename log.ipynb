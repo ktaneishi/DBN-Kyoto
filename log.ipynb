{
 "cells": [
  {
   "cell_type": "code",
   "execution_count": null,
   "id": "selected-premiere",
   "metadata": {},
   "outputs": [],
   "source": [
    "import pandas as pd\n",
    "import matplotlib.pyplot as plt\n",
    "import sys\n",
    "\n",
    "def main():\n",
    "    plt.figure(figsize=(8,6),dpi=100)\n",
    "\n",
    "    for filename in sys.argv[1:]:\n",
    "        print(filename)\n",
    "        df = pd.read_pickle(filename)\n",
    "        df['epoch'] = df.index.astype(int)\n",
    "        df = df.sort('epoch')\n",
    "        df = df.set_index('epoch')\n",
    "\n",
    "\n",
    "        title = filename.replace('GPCR_1st','').replace('_',' ')[:-4] + ' interactions'\n",
    "        #plt.title(title)\n",
    "\n",
    "        valid = df['valid'].dropna() * 100.\n",
    "        plt.plot(valid.index, valid, label='validation / ' + title) \n",
    "        test = df['test'].dropna() * 100.\n",
    "        plt.plot(test.index, test, label='test / ' + title, linewidth=2) \n",
    "\n",
    "    plt.ylim(0,50)\n",
    "    plt.ylabel('Error rate (%)')\n",
    "    plt.xlim(0,500)\n",
    "    plt.xlabel('Epochs (iterations)')\n",
    "    plt.title('GPCR')\n",
    "    plt.legend()\n",
    "    plt.tight_layout()\n",
    "\n",
    "    #plt.savefig(filename.replace('log','png'))\n",
    "    #plt.savefig('gpcr.png')\n",
    "    plt.show()\n",
    "\n",
    "if __name__ == '__main__':\n",
    "    main()"
   ]
  }
 ],
 "metadata": {
  "kernelspec": {
   "display_name": "Python 3",
   "language": "python",
   "name": "python3"
  },
  "language_info": {
   "codemirror_mode": {
    "name": "ipython",
    "version": 3
   },
   "file_extension": ".py",
   "mimetype": "text/x-python",
   "name": "python",
   "nbconvert_exporter": "python",
   "pygments_lexer": "ipython3",
   "version": "3.8.3"
  }
 },
 "nbformat": 4,
 "nbformat_minor": 5
}
