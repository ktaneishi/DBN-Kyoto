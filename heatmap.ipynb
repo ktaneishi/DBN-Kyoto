{
 "cells": [
  {
   "cell_type": "code",
   "execution_count": null,
   "id": "hired-benefit",
   "metadata": {},
   "outputs": [],
   "source": [
    "import pandas as pd\n",
    "import numpy as np\n",
    "import matplotlib.pyplot as plt\n",
    "from sklearn import metrics\n",
    "import seaborn as sns\n",
    "import os\n",
    "import sys\n",
    "\n",
    "name2aid = lambda x: int(os.path.basename(x).split('_')[0].split('-')[1])\n",
    "\n",
    "def main():\n",
    "    index = sorted(sys.argv[1:], key=name2aid)\n",
    "    mat = []\n",
    "    for filename in index:\n",
    "        if filename.endswith('roc'):\n",
    "            continue\n",
    "        aid = name2aid(filename)\n",
    "        df = pd.read_pickle(filename)\n",
    "        df['AID'] = aid\n",
    "        #fpr, tpr, threashold = metrics.roc_curve(df.ix[cond, 'label'], df.ix[cond, 0])\n",
    "        #print(metrics.auc(fpr,tpr))\n",
    "        mat.append(df[['AID', 'val_acc', 'auc']])\n",
    "\n",
    "    mat = pd.concat(mat)\n",
    "    del mat.index.name\n",
    "    mat = mat.reset_index()\n",
    "\n",
    "    for col in ['val_acc', 'auc']:\n",
    "        df = pd.pivot_table(mat, index='AID', columns='index', values=col)\n",
    "\n",
    "        print(df.shape)\n",
    "        plt.figure(figsize=(12,8))\n",
    "        sns.heatmap(df, xticklabels=10, yticklabels=5, vmin=.6, vmax=1., cmap='inferno')\n",
    "        plt.yticks(rotation=0)\n",
    "        plt.xlabel('Epoch')\n",
    "        plt.ylabel('PubChem AID (n=%d)' % df.shape[0])\n",
    "        plt.tight_layout()\n",
    "        #plt.show()\n",
    "        plt.savefig('%s.png' % col)\n",
    "        plt.close()\n",
    "\n",
    "    print(df, df.max(axis=1).describe())\n",
    "    #plt.figure(figsize=(12,8))\n",
    "\n",
    "    print(df.max(axis=1).to_frame())\n",
    "    plt.figure(figsize=(4,6))\n",
    "    df.max(axis=1).to_frame().rename(columns={0:'AUC'}).boxplot(return_type='axes')\n",
    "    plt.show()\n",
    "\n",
    "if __name__ == '__main__':\n",
    "    main()"
   ]
  }
 ],
 "metadata": {
  "kernelspec": {
   "display_name": "Python 3",
   "language": "python",
   "name": "python3"
  },
  "language_info": {
   "codemirror_mode": {
    "name": "ipython",
    "version": 3
   },
   "file_extension": ".py",
   "mimetype": "text/x-python",
   "name": "python",
   "nbconvert_exporter": "python",
   "pygments_lexer": "ipython3",
   "version": "3.8.3"
  }
 },
 "nbformat": 4,
 "nbformat_minor": 5
}
